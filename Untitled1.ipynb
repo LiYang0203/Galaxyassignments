{
 "cells": [
  {
   "cell_type": "code",
   "execution_count": 1,
   "metadata": {},
   "outputs": [
    {
     "name": "stdout",
     "output_type": "stream",
     "text": [
      "[  3271.523198     4935.77085263   6000.           8555.21842459\n",
      "  10034.93797154  11004.04851846  13843.72392368  15690.33977169]\n",
      "[ 2.54912125  1.3515388   1.          0.57846462  0.45225369  0.39229205\n",
      "  0.27528718  0.22692707]\n"
     ]
    }
   ],
   "source": [
    "import numpy as np\n",
    "import math\n",
    "\n",
    "m=np.array([0.5,0.8,1.0,1.5,1.8,2.0,2.6,3.0])\n",
    "#m\n",
    "ksi = m**(-1.35)\n",
    "#kesi\n",
    "T= 6000*m**(0.875)\n",
    "print(T)\n",
    "print(ksi)\n"
   ]
  },
  {
   "cell_type": "code",
   "execution_count": 2,
   "metadata": {},
   "outputs": [
    {
     "name": "stdout",
     "output_type": "stream",
     "text": [
      "2145\n"
     ]
    }
   ],
   "source": [
    "uni=np.arange(3500.0,7430.3,0.9)\n",
    "ustart=0\n",
    "uend=np.where(uni>=4105.0)\n",
    "gstart=np.where(uni>=3680.0)\n",
    "gend = np.where(uni>=5805.0)\n",
    "rstart = np.where(uni>=5430.0)\n",
    "rend = np.where(uni>=7205.0)\n",
    "#print(uend[0][0])\n",
    "print(rstart[0][0])"
   ]
  },
  {
   "cell_type": "code",
   "execution_count": 3,
   "metadata": {},
   "outputs": [
    {
     "name": "stdout",
     "output_type": "stream",
     "text": [
      "Filename: /Users/apple/Galaxies/assignments3/new/30.fits\n",
      "No.    Name      Ver    Type      Cards   Dimensions   Format\n",
      "  0  PRIMARY       1 PrimaryHDU      88   (4367,)   float32   \n",
      "[ 0.02035599  0.02035599  0.02035599 ...,  0.02035599  0.02035599\n",
      "  0.02035599]\n"
     ]
    }
   ],
   "source": [
    "import matplotlib.pyplot as plt\n",
    "import numpy as np\n",
    "from astropy.io import fits\n",
    "\n",
    "#fits.info('/Users/apple/Galaxies/assignments3/new/MILES_Teff3275.70_Logg4.09_MH0.01.fits')    \n",
    "S30 = fits.open('/Users/apple/Galaxies/assignments3/new/30.fits')\n",
    "S30.info()\n",
    "d30 = S30[0].data[:]\n",
    "print (d30)"
   ]
  },
  {
   "cell_type": "code",
   "execution_count": 4,
   "metadata": {},
   "outputs": [
    {
     "name": "stdout",
     "output_type": "stream",
     "text": [
      "2.14454658445\n",
      "1.55201401654\n",
      "0.477690544577\n"
     ]
    }
   ],
   "source": [
    "### Flux for u,g,r bands with 3.0 solar mass\n",
    "\n",
    "u30 = S30[0].data[ustart:uend[0][0]]\n",
    "u30sum=np.sum(u30)/(4105-3500)\n",
    "print(u30sum)\n",
    "\n",
    "g30 = S30[0].data[gstart[0][0]:gend[0][0]]\n",
    "g30sum=np.sum(g30)/(5805-3680)\n",
    "print (g30sum)\n",
    "\n",
    "r30 = S30[0].data[rstart[0][0]:rend[0][0]]\n",
    "r30sum=np.sum(r30)/(5805-3680)\n",
    "print (r30sum)"
   ]
  },
  {
   "cell_type": "code",
   "execution_count": 5,
   "metadata": {},
   "outputs": [
    {
     "name": "stdout",
     "output_type": "stream",
     "text": [
      "[ 0.00379025  0.00379025  0.00379025 ...,  0.00379025  0.00379025\n",
      "  0.00379025]\n"
     ]
    }
   ],
   "source": [
    "#fits.info('/Users/apple/Galaxies/assignments3/new/MILES_Teff3526.10_Logg4.13_MH0.01.fits')    \n",
    "S26 = fits.open('/Users/apple/Galaxies/assignments3/new/26.fits')\n",
    "d26 = S26[0].data[:]\n",
    "print (d26)"
   ]
  },
  {
   "cell_type": "code",
   "execution_count": 6,
   "metadata": {},
   "outputs": [
    {
     "name": "stdout",
     "output_type": "stream",
     "text": [
      "1.97866089876\n",
      "1.55201401654\n",
      "0.506432215074\n"
     ]
    }
   ],
   "source": [
    "### Flux for u,g,r bands with 2.6 solar mass\n",
    "\n",
    "u26 = S26[0].data[ustart:uend[0][0]]\n",
    "u26sum=np.sum(u26)/(4105-3500)\n",
    "print(u26sum)\n",
    "\n",
    "g26 = S26[0].data[gstart[0][0]:gend[0][0]]\n",
    "g26sum=np.sum(g26)/(5805-3680)\n",
    "print (g30sum)\n",
    "\n",
    "r26 = S26[0].data[rstart[0][0]:rend[0][0]]\n",
    "r26sum=np.sum(r26)/(5805-3680)\n",
    "print (r26sum)"
   ]
  },
  {
   "cell_type": "code",
   "execution_count": 7,
   "metadata": {},
   "outputs": [
    {
     "name": "stdout",
     "output_type": "stream",
     "text": [
      "1.73861659026\n",
      "1.55299528952\n",
      "0.545582375919\n"
     ]
    }
   ],
   "source": [
    "##MILES_Teff3890.00_Logg3.50_MH0.01.fits\n",
    "### Flux for u,g,r bands with 3.0 solar mass\n",
    "\n",
    "#fits.info('/Users/apple/Galaxies/assignments3/new/MILES_Teff3890.00_Logg3.50_MH0.01.fits')    \n",
    "S20 = fits.open('/Users/apple/Galaxies/assignments3/new/20.fits')\n",
    "d20 = S20[0].data[:]\n",
    "#print (d20)\n",
    "\n",
    "u20 = S20[0].data[ustart:uend[0][0]]\n",
    "u20sum=np.sum(u20)/(4105-3500)\n",
    "print(u20sum)\n",
    "\n",
    "g20 = S20[0].data[gstart[0][0]:gend[0][0]]\n",
    "g20sum=np.sum(g20)/(5805-3680)\n",
    "print (g20sum)\n",
    "\n",
    "r20 = S20[0].data[rstart[0][0]:rend[0][0]]\n",
    "r20sum=np.sum(r20)/(5805-3680)\n",
    "print (r20sum)"
   ]
  },
  {
   "cell_type": "code",
   "execution_count": 8,
   "metadata": {},
   "outputs": [
    {
     "name": "stdout",
     "output_type": "stream",
     "text": [
      "1.60796372595\n",
      "1.54229664522\n",
      "0.570055147059\n"
     ]
    }
   ],
   "source": [
    "##MILES_Teff4155.00_Logg3.50_MH0.01.fits\n",
    "### Flux for u,g,r bands with 1.8 solar mass\n",
    " \n",
    "S18 = fits.open('/Users/apple/Galaxies/assignments3/new/18.fits')\n",
    "d18 = S18[0].data[:]\n",
    "#print (d18)\n",
    "\n",
    "u18 = S18[0].data[ustart:uend[0][0]]\n",
    "u18sum=np.sum(u18)/(4105-3500)\n",
    "print(u18sum)\n",
    "\n",
    "g18 = S18[0].data[gstart[0][0]:gend[0][0]]\n",
    "g18sum=np.sum(g18)/(5805-3680)\n",
    "print (g18sum)\n",
    "\n",
    "r18 = S18[0].data[rstart[0][0]:rend[0][0]]\n",
    "r18sum=np.sum(r18)/(5805-3680)\n",
    "print (r18sum)"
   ]
  },
  {
   "cell_type": "code",
   "execution_count": 9,
   "metadata": {},
   "outputs": [
    {
     "name": "stdout",
     "output_type": "stream",
     "text": [
      "1.40303672601\n",
      "1.49482284007\n",
      "0.631597828585\n"
     ]
    }
   ],
   "source": [
    "##MILES_Teff4656.00_Logg3.50_MH0.01.fits\n",
    "### Flux for u,g,r bands with 1.5 solar mass\n",
    "\n",
    "S15 = fits.open('/Users/apple/Galaxies/assignments3/new/15.fits')\n",
    "d15 = S15[0].data[:]\n",
    "#print (d15)\n",
    "\n",
    "u15 = S15[0].data[ustart:uend[0][0]]\n",
    "u15sum=np.sum(u15)/(4105-3500)\n",
    "print(u15sum)\n",
    "\n",
    "g15 = S15[0].data[gstart[0][0]:gend[0][0]]\n",
    "g15sum=np.sum(g15)/(5805-3680)\n",
    "print (g15sum)\n",
    "\n",
    "r15 = S15[0].data[rstart[0][0]:rend[0][0]]\n",
    "r15sum=np.sum(r15)/(5805-3680)\n",
    "print (r15sum)"
   ]
  },
  {
   "cell_type": "code",
   "execution_count": 10,
   "metadata": {},
   "outputs": [
    {
     "name": "stdout",
     "output_type": "stream",
     "text": [
      "Filename: /Users/apple/Galaxies/assignments3/new/10.fits\n",
      "No.    Name      Ver    Type      Cards   Dimensions   Format\n",
      "  0  PRIMARY       1 PrimaryHDU      73   (4367,)   float32   \n",
      "1.40303672601\n",
      "1.26034535846\n",
      "0.878135225184\n"
     ]
    }
   ],
   "source": [
    "##MILES_Teff5998.00_Logg3.63_MH0.06.fits\n",
    "### Flux for u,g,r bands with 1.0 solar mass\n",
    "  \n",
    "S10 = fits.open('/Users/apple/Galaxies/assignments3/new/10.fits')\n",
    "S10.info()\n",
    "d10 = S10[0].data[:]\n",
    "\n",
    "u10 = S10[0].data[ustart:uend[0][0]]\n",
    "u10sum=np.sum(u10)/(4105-3500)\n",
    "print(u15sum)\n",
    "\n",
    "g10 = S10[0].data[gstart[0][0]:gend[0][0]]\n",
    "g10sum=np.sum(g10)/(5805-3680)\n",
    "print (g10sum)\n",
    "\n",
    "r10 = S10[0].data[rstart[0][0]:rend[0][0]]\n",
    "r10sum=np.sum(r10)/(5805-3680)\n",
    "print (r10sum)"
   ]
  },
  {
   "cell_type": "code",
   "execution_count": 11,
   "metadata": {},
   "outputs": [
    {
     "name": "stdout",
     "output_type": "stream",
     "text": [
      "Filename: /Users/apple/Galaxies/assignments3/new/08.fits\n",
      "No.    Name      Ver    Type      Cards   Dimensions   Format\n",
      "  0  PRIMARY       1 PrimaryHDU      74   (4367,)   float32   \n",
      "0.444897410495\n",
      "1.07483984375\n",
      "1.08408226103\n"
     ]
    }
   ],
   "source": [
    "##MILES_Teff6898.00_Logg3.50_MH0.01.fits\n",
    "### Flux for u,g,r bands with 0.8 solar mass\n",
    "  \n",
    "S08 = fits.open('/Users/apple/Galaxies/assignments3/new/08.fits')\n",
    "S08.info()\n",
    "d08 = S08[0].data[:]\n",
    "\n",
    "u08 = S08[0].data[ustart:uend[0][0]]\n",
    "u08sum=np.sum(u08)/(4105-3500)\n",
    "print(u08sum)\n",
    "\n",
    "g08 = S08[0].data[gstart[0][0]:gend[0][0]]\n",
    "g08sum=np.sum(g08)/(5805-3680)\n",
    "print (g08sum)\n",
    "\n",
    "r08 = S08[0].data[rstart[0][0]:rend[0][0]]\n",
    "r08sum=np.sum(r08)/(5805-3680)\n",
    "print (r08sum)"
   ]
  },
  {
   "cell_type": "code",
   "execution_count": 12,
   "metadata": {},
   "outputs": [
    {
     "name": "stdout",
     "output_type": "stream",
     "text": [
      "Filename: /Users/apple/Galaxies/assignments3/new/05.fits\n",
      "No.    Name      Ver    Type      Cards   Dimensions   Format\n",
      "  0  PRIMARY       1 PrimaryHDU      75   (4367,)   float32   \n",
      "0.197450470727\n",
      "0.833583065257\n",
      "1.28081284467\n"
     ]
    }
   ],
   "source": [
    "##MILES_Teff9253.00_Logg3.50_MH0.01.fits\n",
    "### Flux for u,g,r bands with 0.5 solar mass\n",
    "  \n",
    "S05 = fits.open('/Users/apple/Galaxies/assignments3/new/05.fits')\n",
    "S05.info()\n",
    "d05 = S05[0].data[:]\n",
    "\n",
    "u05 = S05[0].data[ustart:uend[0][0]]\n",
    "u05sum=np.sum(u05)/(4105-3500)\n",
    "print(u05sum)\n",
    "\n",
    "g05 = S05[0].data[gstart[0][0]:gend[0][0]]\n",
    "g05sum=np.sum(g05)/(5805-3680)\n",
    "print (g05sum)\n",
    "\n",
    "r05 = S05[0].data[rstart[0][0]:rend[0][0]]\n",
    "r05sum=np.sum(r05)/(5805-3680)\n",
    "print (r05sum)"
   ]
  },
  {
   "cell_type": "code",
   "execution_count": 33,
   "metadata": {},
   "outputs": [
    {
     "name": "stdout",
     "output_type": "stream",
     "text": [
      "[[ 0.42897722  0.4844355   0.55231673  0.64526392  0.77023708  0.96249871\n",
      "   1.27594351  1.56372677]]\n",
      "[[-0.16443537 -0.13191705 -0.09106439 -0.0290062   0.05040394  0.16042006\n",
      "   0.30320484  0.46634198]]\n"
     ]
    },
    {
     "data": {
      "image/png": "[encoded data removed]",
      "text/plain": [
       "<matplotlib.figure.Figure at 0x11bf53080>"
      ]
     },
     "metadata": {},
     "output_type": "display_data"
    }
   ],
   "source": [
    "#ksi = m**(-1.35)\n",
    "k=np.zeros((1,8))\n",
    "\n",
    "fig1=plt.figure()\n",
    "for i in range(0,8,1):\n",
    "    k[0][i]=ksi[i]/np.sum(ksi)\n",
    "usum=np.zeros((1,8))\n",
    "gsum=np.zeros((1,8))\n",
    "rsum=np.zeros((1,8))\n",
    "umg=np.zeros((1,8))\n",
    "gmr=np.zeros((1,8))\n",
    "usum[0][0]=u05sum*k[0][0]+u08sum*k[0][1]+u10sum*k[0][2]+u15sum*k[0][3]+u18sum*k[0][4]+u20sum*k[0][5]+u26sum*k[0][6]+u30sum*k[0][7]   \n",
    "gsum[0][0]=g05sum*k[0][0]+g08sum*k[0][1]+g10sum*k[0][2]+g15sum*k[0][3]+g18sum*k[0][4]+g20sum*k[0][5]+g26sum*k[0][6]+g30sum*k[0][7]   \n",
    "rsum[0][0]=r05sum*k[0][0]+r08sum*k[0][1]+r10sum*k[0][2]+r15sum*k[0][3]+r18sum*k[0][4]+r20sum*k[0][5]+r26sum*k[0][6]+r30sum*k[0][7]   \n",
    "umg[0][0]=-2.5*math.log10(usum[0][0]/gsum[0][0])\n",
    "gmr[0][0]=-2.5*math.log10(gsum[0][0]/rsum[0][0])\n",
    "\n",
    "for i in range(0,7,1):\n",
    "    k[0][i]=ksi[i]/np.sum(ksi[0:6])\n",
    "usum[0][1]=u05sum*k[0][0]+u08sum*k[0][1]+u10sum*k[0][2]+u15sum*k[0][3]+u18sum*k[0][4]+u20sum*k[0][5]+u26sum*k[0][6]      \n",
    "gsum[0][1]=g05sum*k[0][0]+g08sum*k[0][1]+g10sum*k[0][2]+g15sum*k[0][3]+g18sum*k[0][4]+g20sum*k[0][5]+g26sum*k[0][6]  \n",
    "rsum[0][1]=r05sum*k[0][0]+r08sum*k[0][1]+r10sum*k[0][2]+r15sum*k[0][3]+r18sum*k[0][4]+r20sum*k[0][5]+r26sum*k[0][6]   \n",
    "umg[0][1]=-2.5*math.log10(usum[0][1]/gsum[0][1])\n",
    "gmr[0][1]=-2.5*math.log10(gsum[0][1]/rsum[0][1])\n",
    "\n",
    "for i in range(0,6,1):\n",
    "    k[0][i]=ksi[i]/np.sum(ksi[0:5])\n",
    "usum[0][2]=u05sum*k[0][0]+u08sum*k[0][1]+u10sum*k[0][2]+u15sum*k[0][3]+u18sum*k[0][4]+u20sum*k[0][5]       \n",
    "gsum[0][2]=g05sum*k[0][0]+g08sum*k[0][1]+g10sum*k[0][2]+g15sum*k[0][3]+g18sum*k[0][4]+g20sum*k[0][5] \n",
    "rsum[0][2]=r05sum*k[0][0]+r08sum*k[0][1]+r10sum*k[0][2]+r15sum*k[0][3]+r18sum*k[0][4]+r20sum*k[0][5]  \n",
    "umg[0][2]=-2.5*math.log10(usum[0][2]/gsum[0][2])\n",
    "gmr[0][2]=-2.5*math.log10(gsum[0][2]/rsum[0][2])\n",
    "\n",
    "for i in range(0,5,1):\n",
    "    k[0][i]=ksi[i]/np.sum(ksi[0:4])\n",
    "usum[0][3]=u05sum*k[0][0]+u08sum*k[0][1]+u10sum*k[0][2]+u15sum*k[0][3]+u18sum*k[0][4]      \n",
    "gsum[0][3]=g05sum*k[0][0]+g08sum*k[0][1]+g10sum*k[0][2]+g15sum*k[0][3]+g18sum*k[0][4] \n",
    "rsum[0][3]=r05sum*k[0][0]+r08sum*k[0][1]+r10sum*k[0][2]+r15sum*k[0][3]+r18sum*k[0][4] \n",
    "umg[0][3]=-2.5*math.log10(usum[0][3]/gsum[0][3])\n",
    "gmr[0][3]=-2.5*math.log10(gsum[0][3]/rsum[0][3])\n",
    "\n",
    "for i in range(0,4,1):\n",
    "    k[0][i]=ksi[i]/np.sum(ksi[0:3])\n",
    "usum[0][4]=u05sum*k[0][0]+u08sum*k[0][1]+u10sum*k[0][2]+u15sum*k[0][3]      \n",
    "gsum[0][4]=g05sum*k[0][0]+g08sum*k[0][1]+g10sum*k[0][2]+g15sum*k[0][3] \n",
    "rsum[0][4]=r05sum*k[0][0]+r08sum*k[0][1]+r10sum*k[0][2]+r15sum*k[0][3] \n",
    "umg[0][4]=-2.5*math.log10(usum[0][4]/gsum[0][4])\n",
    "gmr[0][4]=-2.5*math.log10(gsum[0][4]/rsum[0][4])\n",
    "\n",
    "for i in range(0,3,1):\n",
    "    k[0][i]=ksi[i]/np.sum(ksi[0:2])\n",
    "usum[0][5]=u05sum*k[0][0]+u08sum*k[0][1]+u10sum*k[0][2]      \n",
    "gsum[0][5]=g05sum*k[0][0]+g08sum*k[0][1]+g10sum*k[0][2] \n",
    "rsum[0][5]=r05sum*k[0][0]+r08sum*k[0][1]+r10sum*k[0][2] \n",
    "umg[0][5]=-2.5*math.log10(usum[0][5]/gsum[0][5])\n",
    "gmr[0][5]=-2.5*math.log10(gsum[0][5]/rsum[0][5])\n",
    "\n",
    "for i in range(0,2,1):\n",
    "    k[0][i]=ksi[i]/np.sum(ksi[0:1])\n",
    "usum[0][6]=u05sum*k[0][0]+u08sum*k[0][1]      \n",
    "gsum[0][6]=g05sum*k[0][0]+g08sum*k[0][1]\n",
    "rsum[0][6]=r05sum*k[0][0]+r08sum*k[0][1] \n",
    "umg[0][6]=-2.5*math.log10(usum[0][6]/gsum[0][6])\n",
    "gmr[0][6]=-2.5*math.log10(gsum[0][6]/rsum[0][6])\n",
    "\n",
    "usum[0][7]=u05sum      \n",
    "gsum[0][7]=g05sum\n",
    "rsum[0][7]=r05sum \n",
    "umg[0][7]=-2.5*math.log10(usum[0][7]/gsum[0][7])\n",
    "gmr[0][7]=-2.5*math.log10(gsum[0][7]/rsum[0][7])\n",
    "\n",
    "print(umg)\n",
    "print(gmr)\n",
    "\n",
    "plt.plot(umg,gmr,'b.',linewidth=1)\n",
    "plt.show()"
   ]
  },
  {
   "cell_type": "code",
   "execution_count": 34,
   "metadata": {},
   "outputs": [
    {
     "data": {
      "image/png": "[encoded data removed]",
      "text/plain": [
       "<matplotlib.figure.Figure at 0x11b637668>"
      ]
     },
     "metadata": {},
     "output_type": "display_data"
    }
   ],
   "source": [
    "\n",
    "#plt.axhline(linewidth=2,color='r')\n",
    "plt.plot(umg,gmr)\n",
    "plt.show()"
   ]
  },
  {
   "cell_type": "code",
   "execution_count": 24,
   "metadata": {},
   "outputs": [
    {
     "name": "stdout",
     "output_type": "stream",
     "text": [
      "[[ 0.42897722  0.4844355   0.55231673  0.64526392  0.77023708  0.96249871\n",
      "   1.27594351  1.56372677]]\n"
     ]
    }
   ],
   "source": [
    "print(umg)"
   ]
  },
  {
   "cell_type": "code",
   "execution_count": null,
   "metadata": {
    "collapsed": true
   },
   "outputs": [],
   "source": []
  }
 ],
 "metadata": {
  "kernelspec": {
   "display_name": "Python 3",
   "language": "python",
   "name": "python3"
  },
  "language_info": {
   "codemirror_mode": {
    "name": "ipython",
    "version": 3
   },
   "file_extension": ".py",
   "mimetype": "text/x-python",
   "name": "python",
   "nbconvert_exporter": "python",
   "pygments_lexer": "ipython3",
   "version": "3.6.1"
  }
 },
 "nbformat": 4,
 "nbformat_minor": 2
}
