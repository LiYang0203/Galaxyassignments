{
 "cells": [
  {
   "cell_type": "code",
   "execution_count": 1,
   "metadata": {},
   "outputs": [
    {
     "name": "stdout",
     "output_type": "stream",
     "text": [
      "Filename: asu.fit\n",
      "No.    Name      Ver    Type      Cards   Dimensions   Format\n",
      "  0  PRIMARY       1 PrimaryHDU      52   ()      \n",
      "  1  I_239_hip_main    1 TableHDU        65   99999R x 12C   [I6, A11, A11, F5.2, F12.8, F12.8, F7.2, F8.2, F8.2, F6.2, F6.3, A1]   \n",
      "['HIP', 'RAhms', 'DEdms', 'Vmag', 'RA_ICRS_', 'DE_ICRS_', 'Plx', 'pmRA', 'pmDE', 'e_Plx', 'B-V', 'Notes']\n"
     ]
    }
   ],
   "source": [
    "from astropy.io import fits\n",
    "import numpy as np\n",
    "import math\n",
    "import matplotlib.pyplot as plt\n",
    "data=fits.open('asu.fit')\n",
    "data.info()\n",
    "s1=data[1].header\n",
    "s2=fits.getdata('asu.fit',1)\n",
    "#print(s1)\n",
    "d1=[]\n",
    "d2=[]\n",
    "d3=[]\n",
    "u1=[]\n",
    "u2=[]\n",
    "u3=[]\n",
    "u4=[]\n",
    "u5=[]\n",
    "n=data[1].data.names\n",
    "print (n)\n",
    "j=0\n",
    "for i in range(99999):\n",
    "    if(s2['Plx'][i] > 0. and 3.*s2['e_Plx'][i] < s2['Plx'][i] and (s2['Vmag'][i]+5* np.log10(s2['Plx'][i])-10<=9.)):\n",
    "        u1.append(s2['Vmag'][i]+5* np.log10(s2['Plx'][i]*0.001)+5)\n",
    "        u2.append(1/(s2['Plx'][i]*0.001))\n",
    "        u3.append(s2['B-V'][i])\n",
    "        #s2['RA（ICRS）'][i]\n",
    "       # s22.append(','.join(s2['RAhms'][i].split()))\n",
    "        u4.append(s2[i][7])\n",
    "        u5.append(s2['DE_ICRS_'][i])\n",
    "        j=j+1\n",
    "        \n",
    "#print(j)\n",
    "#print (u4)\n",
    "for i in range(j):\n",
    "        if(u4[i] <= 10. and u4[i] >= -10. and u5[i] <=10. and u5[i] >=-10 and ((u1[i]<=1.0 and u2[i]<=200) or (u1[i]>1.0 and u1[i] <= 2.5 and u2[i]<=110) or (u1[i]>2.5 and u1[i]<=5.5 and u2[i] <=75.) or (u1[i]<=7.2 and u1[i] >5.5 and u2[i] <40.) )):\n",
    "                d1.append(u2[i])\n",
    "                d2.append(u1[i])\n",
    "                #d3.append(u3[i])"
   ]
  },
  {
   "cell_type": "code",
   "execution_count": 2,
   "metadata": {},
   "outputs": [
    {
     "name": "stdout",
     "output_type": "stream",
     "text": [
      "[335566.19012345682, 25856.790123456791, 5044.9700345679012, 847.27529876543213]\n"
     ]
    },
    {
     "data": {
      "text/plain": [
       "335566.19012345682"
      ]
     },
     "execution_count": 2,
     "metadata": {},
     "output_type": "execute_result"
    }
   ],
   "source": [
    "\n",
    "v2=[]\n",
    "r = np.array([235,100,58,32])\n",
    "#print(r[1])\n",
    "for k in range(4):\n",
    "    #print(k)\n",
    "    v2.append(4 * 3.1416 * (r[k]**3)/(18*9*3))\n",
    "print(v2)\n",
    "v2[0]"
   ]
  },
  {
   "cell_type": "code",
   "execution_count": 3,
   "metadata": {},
   "outputs": [
    {
     "name": "stdout",
     "output_type": "stream",
     "text": [
      "424\n"
     ]
    }
   ],
   "source": [
    "print(len(d1))"
   ]
  },
  {
   "cell_type": "code",
   "execution_count": 4,
   "metadata": {},
   "outputs": [
    {
     "name": "stdout",
     "output_type": "stream",
     "text": [
      "[-2.72123742 -1.82663633 -0.93203525 -0.03743416  0.85716693  1.75176801\n",
      "  2.6463691   3.54097019  4.43557127  5.33017236  6.22477345]\n",
      "[  3   9  41 153  61  57  26  32  33   9]\n",
      "[-2.2739368775233419, -1.3793357908997592, -0.48473470427617649, 0.40986638234740624, 1.304467468970989, 2.1990685555945717, 3.0936696422181544, 3.9882707288417372, 4.8828718154653199, 5.7774729020889026]\n"
     ]
    }
   ],
   "source": [
    "import math\n",
    "aa=np.histogram(d2,density=0,bins=10)\n",
    "print(aa[1])\n",
    "print(aa[0])\n",
    "ee=aa[1]\n",
    "bins=[0.]*10\n",
    "bbc=[]\n",
    "bbd=[]\n",
    "\n",
    "bins2=[0.]*10\n",
    "\n",
    "plt.figure(1)\n",
    "for i in range(10):\n",
    "    bins[i]=(aa[1][i]+aa[1][i+1])/2\n",
    "   \n",
    "    #bins2[i]=-(bins[i])/(3.5*0.4)+bins[i]\n",
    "    bins2[i]=-(bins[i])/(3.5*2.5)\n",
    "    if(bins[i] <=1.2):\n",
    "         bbc.append(np.log10(aa[0][i]/v2[0])+10)\n",
    "    if(bins[i]>1.2 and bins[i] <2.46):\n",
    "        bbc.append(np.log10(aa[0][i]/v2[1])+10)\n",
    "    if(bins[i] >=2.46 and bins[i] <=5.3):\n",
    "        bbc.append(np.log10(aa[0][i]/v2[2])+10)\n",
    "    #if(bins[i] >4.05 and bins[i] <=5.3):\n",
    "      #  bbc.append(np.log10(aa[0][i]/v2[3])+10)\n",
    "    if(bins[i] >5.3):\n",
    "        bbc.append(np.log10(aa[0][i]/v2[3])+10)\n",
    "    if(bins[i]<=3.5):\n",
    "        bbd.append(bbc[i]+3*bins2[i]+0.9)\n",
    "    else:bbd.append(bbc[i])\n",
    "#print(len(bbc))\n",
    "#print(len(bbd))\n",
    "#print(len(bins))\n",
    "#print(len(bins2))\n",
    "print(bins)"
   ]
  },
  {
   "cell_type": "code",
   "execution_count": 5,
   "metadata": {},
   "outputs": [
    {
     "data": {
      "image/png": "[encoded data removed]",
      "text/plain": [
       "<matplotlib.figure.Figure at 0x108bec940>"
      ]
     },
     "metadata": {},
     "output_type": "display_data"
    },
    {
     "name": "stdout",
     "output_type": "stream",
     "text": [
      "[-2.2739368775233419, -1.3793357908997592, -0.48473470427617649, 0.40986638234740624, 1.304467468970989, 2.1990685555945717, 3.0936696422181544, 3.9882707288417372, 4.8828718154653199, 5.7774729020889026]\n",
      "[4.9513430575764223, 5.4284643122960849, 6.0870056595764961, 6.6589132336743591, 7.3727552246827361, 7.3433002453444605, 7.7121147569539747, 7.8022913873030628, 7.8156553488610445, 8.0262179641515754]\n"
     ]
    },
    {
     "data": {
      "image/png": "[encoded data removed]",
      "text/plain": [
       "<matplotlib.figure.Figure at 0x10750b320>"
      ]
     },
     "metadata": {},
     "output_type": "display_data"
    }
   ],
   "source": [
    "plt.plot(bins,bbc,'r.')\n",
    "#plt.savefig('luminosity.png')\n",
    "plt.show()\n",
    "plt.figure(2)\n",
    "ax = plt.gca()\n",
    "#plt.axis([-0.6,0.4,5.3,7.5])\n",
    "ax.invert_xaxis()\n",
    "\n",
    "plt.plot(bins2,bbd,'b')\n",
    "print(bins)\n",
    "print(bbc)\n",
    "#plt.savefig('initial_mass.png')\n",
    "plt.show()"
   ]
  },
  {
   "cell_type": "code",
   "execution_count": 6,
   "metadata": {},
   "outputs": [],
   "source": [
    "#aa = np.histogram(d2,density=0,bins=10)\n",
    "#print (aa[0])   # number of stars in different intervals of luminosity\n",
    "#print (aa[1])   # bins"
   ]
  },
  {
   "cell_type": "code",
   "execution_count": 7,
   "metadata": {},
   "outputs": [],
   "source": [
    "#k=[0.]*10\n",
    "#for i in range(10):\n",
    " #   k[i] = (aa[1][i]+aa[1][i+1])/2\n",
    "#plt.plot(k,aa[0],'r.')\n",
    "#plt.savefig('luminosity.png')\n",
    "#plt.show()\n",
    "\n",
    "#ax = plt.gca()\n",
    "#plt.axis([-0.6,0.4,5.3,7.5])\n",
    "#ax.invert_xaxis()"
   ]
  },
  {
   "cell_type": "code",
   "execution_count": 8,
   "metadata": {
    "collapsed": true
   },
   "outputs": [],
   "source": [
    "#L=M**3.5, t=M**(-2.5),log10(L)=Vm, 10**(Vm)=t**(-2.5*3.5),logm(t)=-2.5\n",
    "\n",
    "\n"
   ]
  }
 ],
 "metadata": {
  "kernelspec": {
   "display_name": "Python 3",
   "language": "python",
   "name": "python3"
  },
  "language_info": {
   "codemirror_mode": {
    "name": "ipython",
    "version": 3
   },
   "file_extension": ".py",
   "mimetype": "text/x-python",
   "name": "python",
   "nbconvert_exporter": "python",
   "pygments_lexer": "ipython3",
   "version": "3.6.1"
  }
 },
 "nbformat": 4,
 "nbformat_minor": 2
}
