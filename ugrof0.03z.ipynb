{
 "cells": [
  {
   "cell_type": "code",
   "execution_count": 47,
   "metadata": {},
   "outputs": [
    {
     "name": "stdout",
     "output_type": "stream",
     "text": [
      "[[ 2.686  2.574  2.508 ...,  3.123  3.129  3.135]]\n",
      "[[ 1.286  1.184  1.129 ...,  2.59   2.623  2.658]]\n"
     ]
    },
    {
     "data": {
      "image/png": "[encoded data removed]",
      "text/plain": [
       "<matplotlib.figure.Figure at 0x11fb96f28>"
      ]
     },
     "metadata": {},
     "output_type": "display_data"
    }
   ],
   "source": [
    "import matplotlib.pyplot as plt\n",
    "F= open('isocz030.dat')\n",
    "import numpy as np\n",
    "u=[]\n",
    "g=[]\n",
    "r=[]\n",
    "u_g=np.zeros((1,8755))\n",
    "g_r=np.zeros((1,8755))\n",
    "for line in F.readlines():\n",
    "        #print(line)\n",
    "    s=line.split()\n",
    "    if (len(s) == 16):\n",
    "        #print (s)\n",
    "        u.append(s[8])\n",
    "        g.append(s[10])\n",
    "        r.append(s[11]) \n",
    "\n",
    "for i in range(0,len(u)):\n",
    "    u_g[0][i]=float(u[i])-float(g[i])\n",
    "    g_r[0][i]=float(g[i])-float(r[i])\n",
    "print(u_g)\n",
    "print(g_r)\n",
    "#print(u[0],r[0],g[0])\n",
    "F.close()\n",
    "plt.figure(figsize=(12,8))\n",
    "plt.plot(u_g,g_r,'g.',linewidth=1)\n",
    "plt.show()\n"
   ]
  },
  {
   "cell_type": "code",
   "execution_count": null,
   "metadata": {
    "collapsed": true
   },
   "outputs": [],
   "source": [
    "        for l in range(0,len(s)):  \n",
    "            if (l >= 6 and l <= 8):  \n",
    "                k.append(s[l])\n",
    "print(k)"
   ]
  },
  {
   "cell_type": "code",
   "execution_count": null,
   "metadata": {
    "collapsed": true
   },
   "outputs": [],
   "source": [
    "   with open('pit.txt', 'r') as fd:  \n",
    "       for line in fd:  \n",
    "           lnum += 1;  \n",
    "           if (lnum >= 10) && (lnum <= 13):  \n",
    "               print line "
   ]
  },
  {
   "cell_type": "code",
   "execution_count": null,
   "metadata": {
    "collapsed": true
   },
   "outputs": [],
   "source": [
    "from itertools import islice  \n",
    "'''''\n",
    "input_file = open(\"test.csv\")  \n",
    "line_num = 0  \n",
    "for line in islice(input_file, 1, None):  \n",
    "    line_num += 1  \n",
    "    if (line_num != 1):  \n",
    "        do_readline()\n",
    "'''''\n",
    "\n",
    "\n",
    "''''\n",
    "        try:\n",
    "            g.append(s[9])\n",
    "            r.append(s[11])\n",
    "        except:\n",
    "            pass \n",
    "\n",
    "print(len(g))\n",
    "print(len(u))\n",
    "print(len(r))\n",
    "#u[4]-g[4]\n",
    "\n",
    "''''"
   ]
  },
  {
   "cell_type": "code",
   "execution_count": null,
   "metadata": {
    "collapsed": true
   },
   "outputs": [],
   "source": [
    "with open('isocz030.dat') as daa:\n",
    "    u=[]\n",
    "    g=[]\n",
    "    r=[]\n",
    "    for line in daa.readlines():\n",
    "        #print(line)\n",
    "        s=line.split()\n",
    "        print(len(s))\n",
    "    if (len(s)==16):\n",
    "        u.append(s)\n",
    "        print(u)\n",
    "    #u.append(s[8])\n"
   ]
  },
  {
   "cell_type": "code",
   "execution_count": null,
   "metadata": {
    "collapsed": true
   },
   "outputs": [],
   "source": []
  }
 ],
 "metadata": {
  "kernelspec": {
   "display_name": "Python 3",
   "language": "python",
   "name": "python3"
  },
  "language_info": {
   "codemirror_mode": {
    "name": "ipython",
    "version": 3
   },
   "file_extension": ".py",
   "mimetype": "text/x-python",
   "name": "python",
   "nbconvert_exporter": "python",
   "pygments_lexer": "ipython3",
   "version": "3.6.1"
  }
 },
 "nbformat": 4,
 "nbformat_minor": 2
}
